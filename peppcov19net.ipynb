{
  "nbformat": 4,
  "nbformat_minor": 0,
  "metadata": {
    "colab": {
      "name": "peppcov19net.ipynb",
      "provenance": [],
      "collapsed_sections": [],
      "authorship_tag": "ABX9TyPAoKLYVFMjVS/M9Vz3jg50",
      "include_colab_link": true
    },
    "kernelspec": {
      "name": "python3",
      "display_name": "Python 3"
    },
    "language_info": {
      "name": "python"
    }
  },
  "cells": [
    {
      "cell_type": "markdown",
      "metadata": {
        "id": "view-in-github",
        "colab_type": "text"
      },
      "source": [
        "<a href=\"https://colab.research.google.com/github/tripletk/Pepp-Cov19-Net/blob/main/peppcov19net.ipynb\" target=\"_parent\"><img src=\"https://colab.research.google.com/assets/colab-badge.svg\" alt=\"Open In Colab\"/></a>"
      ]
    },
    {
      "cell_type": "markdown",
      "metadata": {
        "id": "vW3Ws645938i"
      },
      "source": [
        "Detecting COVID-19 with Chest X Ray using PyTorch"
      ]
    },
    {
      "cell_type": "markdown",
      "metadata": {
        "id": "8v0CVwuG9-Jo"
      },
      "source": [
        "Importing Libraries"
      ]
    },
    {
      "cell_type": "code",
      "metadata": {
        "colab": {
          "base_uri": "https://localhost:8080/"
        },
        "id": "cIfEPk0V9gNn",
        "outputId": "c484be82-41a9-4be2-a2b5-bddfba0bce87"
      },
      "source": [
        "%matplotlib inline\n",
        "\n",
        "import os\n",
        "import shutil\n",
        "import random\n",
        "import torch\n",
        "import torchvision\n",
        "import numpy as np\n",
        "\n",
        "from PIL import Image\n",
        "from matplotlib import pyplot as plt\n",
        "\n",
        "torch.manual_seed(0)\n",
        "\n",
        "print('Using PyTorch version', torch.__version__)"
      ],
      "execution_count": 6,
      "outputs": [
        {
          "output_type": "stream",
          "text": [
            "Using PyTorch version 1.8.1+cu101\n"
          ],
          "name": "stdout"
        }
      ]
    },
    {
      "cell_type": "markdown",
      "metadata": {
        "id": "BKB-YEMt-nl9"
      },
      "source": [
        "Preapring Training and Test Sets"
      ]
    },
    {
      "cell_type": "code",
      "metadata": {
        "id": "BQp1HYxa-piX"
      },
      "source": [
        "class_names = ['normal', 'viral', 'covid']\n",
        "root_dir = 'COVID-19 Radiography Database'\n",
        "source_dirs = ['NORMAL', 'Viral Pneumonia', 'COVID-19']\n",
        "\n",
        "if os.path.isdir(os.path.join(root_dir, source_dirs[1])):\n",
        "    os.mkdir(os.path.join(root_dir, 'test'))\n",
        "\n",
        "    for i, d in enumerate(source_dirs):\n",
        "        os.rename(os.path.join(root_dir, d), os.path.join(root_dir, class_names[i]))\n",
        "\n",
        "    for c in class_names:\n",
        "        os.mkdir(os.path.join(root_dir, 'test', c))\n",
        "\n",
        "    for c in class_names:\n",
        "        images = [x for x in os.listdir(os.path.join(root_dir, c)) if x.lower().endswith('png')]\n",
        "        selected_images = random.sample(images, 30)\n",
        "        for image in selected_images:\n",
        "            source_path = os.path.join(root_dir, c, image)\n",
        "            target_path = os.path.join(root_dir, 'test', c, image)\n",
        "            shutil.move(source_path, target_path)"
      ],
      "execution_count": 5,
      "outputs": []
    },
    {
      "cell_type": "markdown",
      "metadata": {
        "id": "BQY1k4Fb_rE6"
      },
      "source": [
        "Creating Custom Dataset"
      ]
    },
    {
      "cell_type": "code",
      "metadata": {
        "id": "iZu4--tL_snm"
      },
      "source": [
        "class ChestXRayDataset(torch.utils.data.Dataset):\n",
        "  def __init__(self, image_dirs, transform):\n",
        "    def get_images(class_name):\n",
        "      images = [x for x in os.listdir(image_dors[class_name]) if x.lower().endswith('png')]\n",
        "      print(f'Found {len(images)} {class_name} examples')\n",
        "      return images\n",
        "\n",
        "    self.images = {}\n",
        "    self.class_names = ['normal', 'viral', 'covid']\n",
        "\n",
        "    for c in self.class_names:\n",
        "      self.images[c] = get_images(c)\n",
        "    \n",
        "    self.image_dirs = image_dirs\n",
        "    self.transform = transform\n",
        "\n",
        "  def __len__(self):\n",
        "    return sum([len(self.images[c]) for c in self.class_names])\n",
        "\n",
        "  def __getitem__(self, index):\n",
        "    class_name = random.choice(self.class_names)\n",
        "    index = index % len(self.images[class_name]) # avoid out of bounds index values of different classes\n",
        "    image_name = self.images[class_name][index]\n",
        "    image_path = os.path.join(self.image_dirs[class_name], image_name)\n",
        "    image = Image.open(image_path).convert('RGB') # Using ResNet18 so have to convert image to RGB\n",
        "    return self.transform(image), self.class_names.index(class_name)\n"
      ],
      "execution_count": 7,
      "outputs": []
    }
  ]
}